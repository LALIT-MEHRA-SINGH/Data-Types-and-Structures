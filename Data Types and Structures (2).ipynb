{
 "cells": [
  {
   "cell_type": "code",
   "execution_count": 2,
   "id": "bbf37a44-53dd-46d8-b18d-8ec4d15e1e0b",
   "metadata": {},
   "outputs": [
    {
     "name": "stdout",
     "output_type": "stream",
     "text": [
      "Lalit Singh\n"
     ]
    }
   ],
   "source": [
    "# 1 Write a code to create a string with your name and print it?\n",
    "#Ans\n",
    "name=\"Lalit Singh\"\n",
    "print(name)"
   ]
  },
  {
   "cell_type": "code",
   "execution_count": 3,
   "id": "53038a24-0b7b-41cc-a040-0948d226f08b",
   "metadata": {},
   "outputs": [
    {
     "name": "stdout",
     "output_type": "stream",
     "text": [
      "11\n"
     ]
    }
   ],
   "source": [
    "# 2 Write a code to find the length of the string \"Hello World\"?\n",
    "#Ans\n",
    "code=\"hello world\"\n",
    "print(len(code))"
   ]
  },
  {
   "cell_type": "code",
   "execution_count": 54,
   "id": "fcabb568-c640-41f8-8702-a2349aa52a52",
   "metadata": {},
   "outputs": [
    {
     "name": "stdout",
     "output_type": "stream",
     "text": [
      "Pyt\n"
     ]
    }
   ],
   "source": [
    "# 3  Write a code to slice the first 3 characters from the string \"Python Programming ?\n",
    "#Ans\n",
    "text = \"Python Programming\"\n",
    "sliced_text = text[:3]\n",
    "print(sliced_text)"
   ]
  },
  {
   "cell_type": "code",
   "execution_count": 55,
   "id": "41b349cb-5761-4ef6-9dc5-d898d7520b7d",
   "metadata": {},
   "outputs": [
    {
     "name": "stdout",
     "output_type": "stream",
     "text": [
      "HELLO\n"
     ]
    }
   ],
   "source": [
    "# 4 Write a code to convert the string \"hello\" to uppercase?\n",
    "#Ans\n",
    "\n",
    "text = \"hello\"\n",
    "uppercase_text = text.upper()\n",
    "print(uppercase_text)\n"
   ]
  },
  {
   "cell_type": "code",
   "execution_count": 46,
   "id": "22c30759-b455-456d-9f80-4153ba1b6b53",
   "metadata": {},
   "outputs": [
    {
     "name": "stdout",
     "output_type": "stream",
     "text": [
      "I like orange\n"
     ]
    }
   ],
   "source": [
    "# 5  Write a code to replace the word \"apple\" with \"orange\" in the string \"I like apple\"?\n",
    "#Ans\n",
    "text = \"I like apple\"\n",
    "new_text = text.replace(\"apple\", \"orange\")\n",
    "print(new_text)\n"
   ]
  },
  {
   "cell_type": "code",
   "execution_count": 42,
   "id": "61345f74-5388-4675-be17-c6b9f22001b7",
   "metadata": {},
   "outputs": [
    {
     "data": {
      "text/plain": [
       "[1, 2, 3, 4, 5]"
      ]
     },
     "execution_count": 42,
     "metadata": {},
     "output_type": "execute_result"
    }
   ],
   "source": [
    "# 6 Write a code to create a list with numbers 1 to 5 and print it?\n",
    "#Ans\n",
    "num=[1,2,3,4,5]\n",
    "num"
   ]
  },
  {
   "cell_type": "code",
   "execution_count": 41,
   "id": "278b3eca-2b10-453e-a282-6d723da473b9",
   "metadata": {},
   "outputs": [
    {
     "name": "stdout",
     "output_type": "stream",
     "text": [
      "[1, 2, 3, 4, 5, 10]\n"
     ]
    }
   ],
   "source": [
    "# 7 Write a code to append the number 10 to the list [1, 2, 3, 4] ?\n",
    "#Ans\n",
    "marks=[1, 2, 3, 4, 5]\n",
    "marks.append(10)\n",
    "print(marks)"
   ]
  },
  {
   "cell_type": "code",
   "execution_count": 40,
   "id": "838bcb17-689a-4964-8e20-1a57ad229dea",
   "metadata": {},
   "outputs": [
    {
     "name": "stdout",
     "output_type": "stream",
     "text": [
      "[1, 2, 4, 5]\n"
     ]
    }
   ],
   "source": [
    "# 8  Write a code to remove the number 3 from the list [1, 2, 3, 4, 5]?\n",
    "#Ans\n",
    "my_list=[1, 2, 3, 4, 5]\n",
    "my_list.remove(3)\n",
    "print(my_list)"
   ]
  },
  {
   "cell_type": "code",
   "execution_count": 33,
   "id": "161a27b7-46a5-4503-8630-705407dd0d19",
   "metadata": {},
   "outputs": [
    {
     "data": {
      "text/plain": [
       "'b'"
      ]
     },
     "execution_count": 33,
     "metadata": {},
     "output_type": "execute_result"
    }
   ],
   "source": [
    "# 9 Write a code to access the second element in the list ['a', 'b', 'c', 'd']?\n",
    "#Ans\n",
    "list_name=['a', 'b', 'c', 'd']\n",
    "list_name[1]\n"
   ]
  },
  {
   "cell_type": "code",
   "execution_count": null,
   "id": "a21b63ef-1bd3-4a2c-a8d5-30e842fecdac",
   "metadata": {},
   "outputs": [],
   "source": [
    "# 10 Write a code to reverse the list [10, 20, 30, 40, 50].?\n",
    "\n",
    "my_list = [10, 20, 30, 40, 50]\n",
    "my_list.reverse()\n",
    "print(my_list)\n"
   ]
  },
  {
   "cell_type": "code",
   "execution_count": null,
   "id": "900a649c-3409-40df-9bb9-a21136640902",
   "metadata": {},
   "outputs": [],
   "source": [
    "# 11 Write a code to create a tuple with the elements 10, 20, 30 and print it?\n",
    "#Ans\n",
    "tuple=(10,20,30)\n",
    "print(tuple)"
   ]
  },
  {
   "cell_type": "code",
   "execution_count": 51,
   "id": "9bba2bcf-80c5-403a-ab7d-ad64cd74a203",
   "metadata": {},
   "outputs": [
    {
     "name": "stdout",
     "output_type": "stream",
     "text": [
      "apple\n"
     ]
    }
   ],
   "source": [
    "# 12  Write a code to access the first element of the tuple ('apple', 'banana', 'cherry').\n",
    "\n",
    "my_tuple = ('apple', 'banana', 'cherry')\n",
    "first_element = my_tuple[0]\n",
    "print(first_element)\n"
   ]
  },
  {
   "cell_type": "code",
   "execution_count": null,
   "id": "cfefcd58-4728-4725-903a-155c1162b8f9",
   "metadata": {},
   "outputs": [],
   "source": [
    "# 13 Write a code to count how many times the number 2 appears in the tuple (1, 2, 3, 2, 4, 2)?\n",
    "#Ans\n",
    "\n",
    "# Define the tuple\n",
    "numbers = (1, 2, 3, 2, 4, 2)\n",
    "count_of_twos = numbers.count(2)\n",
    "print(\"The number 2 appears\", count_of_twos, \"times in the tuple.\")"
   ]
  },
  {
   "cell_type": "code",
   "execution_count": null,
   "id": "32745da2-72a6-4133-b634-bda2e9e6c992",
   "metadata": {},
   "outputs": [],
   "source": [
    "# 14 . Write a code to find the index of the element \"cat\" in the tuple ('dog', 'cat', 'rabbit')?\n",
    "\n",
    "my_tuple = ('dog', 'cat', 'rabbit')\n",
    "index_of_cat = my_tuple.index('cat')\n",
    "print(\"The index of 'cat' is:\", index_of_cat)"
   ]
  },
  {
   "cell_type": "code",
   "execution_count": 58,
   "id": "0a7ff970-b0e6-47c9-bf2e-7681af7d4622",
   "metadata": {},
   "outputs": [
    {
     "name": "stdout",
     "output_type": "stream",
     "text": [
      "banana is a not tuple\n"
     ]
    }
   ],
   "source": [
    "# 15 Write a code to check if the element \"banana\" is in the tuple ('apple', 'orange', 'banana')?\n",
    "\n",
    "fruit=('apple', 'orange', 'banana')\n",
    "if 'banana' in fruit:\n",
    "    print(\"banana is a tuple\")\n",
    "else:\n",
    "     print(\"banana is a not tuple\")"
   ]
  },
  {
   "cell_type": "code",
   "execution_count": 56,
   "id": "c0a3421d-7676-4429-a6f6-128c251ee770",
   "metadata": {},
   "outputs": [
    {
     "data": {
      "text/plain": [
       "{1, 2, 3, 4, 5}"
      ]
     },
     "execution_count": 56,
     "metadata": {},
     "output_type": "execute_result"
    }
   ],
   "source": [
    "# 16 Write a code to create a set with the elements 1, 2, 3, 4, 5 and print it?\n",
    "#\n",
    "set={1,2,3,4,5}\n",
    "set"
   ]
  },
  {
   "cell_type": "code",
   "execution_count": 45,
   "id": "fe51d6ab-64b5-49b0-8a4e-0694d75b9acb",
   "metadata": {},
   "outputs": [
    {
     "name": "stdout",
     "output_type": "stream",
     "text": [
      "I Lake ['apple']\n"
     ]
    }
   ],
   "source": [
    "# 17  Write a code to add the element 6 to the set {1, 2, 3, 4}?\n",
    "#Ans\n",
    "set= {1, 2, 3, 4}\n",
    "set.add(6)\n",
    "set"
   ]
  },
  {
   "cell_type": "code",
   "execution_count": 34,
   "id": "2b938e8d-a594-469c-9671-0c2ab2f6c0be",
   "metadata": {},
   "outputs": [
    {
     "name": "stdout",
     "output_type": "stream",
     "text": [
      "(10, 20, 30)\n"
     ]
    }
   ],
   "source": [
    "# 18 Write a code to create a tuple with the elements 10, 20, 30 and print it?\n",
    "#Ans\n",
    "tuple=(10,20,30)\n",
    "print(tuple)"
   ]
  },
  {
   "cell_type": "code",
   "execution_count": 52,
   "id": "86548747-a1af-42be-8672-27208e6a2081",
   "metadata": {},
   "outputs": [
    {
     "name": "stdout",
     "output_type": "stream",
     "text": [
      "apple\n"
     ]
    }
   ],
   "source": [
    "# 19 Write a code to access the first element of the tuple ('apple', 'banana', 'cherry')?\n",
    "\n",
    "my_tuple = ('apple', 'banana', 'cherry')\n",
    "first_element = my_tuple[0]\n",
    "print(first_element)"
   ]
  },
  {
   "cell_type": "code",
   "execution_count": 35,
   "id": "228356dc-32ce-480c-95d6-91be87bccf59",
   "metadata": {},
   "outputs": [
    {
     "name": "stdout",
     "output_type": "stream",
     "text": [
      "The number 2 appears 3 times in the tuple.\n"
     ]
    }
   ],
   "source": [
    "# 20 Write a code to count how many times the number 2 appears in the tuple (1, 2, 3, 2, 4, 2)?\n",
    "#Ans\n",
    "\n",
    "# Define the tuple\n",
    "numbers = (1, 2, 3, 2, 4, 2)\n",
    "count_of_twos = numbers.count(2)\n",
    "print(\"The number 2 appears\", count_of_twos, \"times in the tuple.\")\n"
   ]
  },
  {
   "cell_type": "code",
   "execution_count": 53,
   "id": "8add87d6-61a7-413a-8ec0-0aeee60c687b",
   "metadata": {},
   "outputs": [
    {
     "name": "stdout",
     "output_type": "stream",
     "text": [
      "The index of 'cat' is: 1\n"
     ]
    }
   ],
   "source": [
    "# 21 . Write a code to find the index of the element \"cat\" in the tuple ('dog', 'cat', 'rabbit')?\n",
    "\n",
    "my_tuple = ('dog', 'cat', 'rabbit')\n",
    "index_of_cat = my_tuple.index('cat')\n",
    "print(\"The index of 'cat' is:\", index_of_cat)"
   ]
  },
  {
   "cell_type": "code",
   "execution_count": null,
   "id": "13ece084-04de-4a93-8072-adfd175fd9b5",
   "metadata": {},
   "outputs": [],
   "source": [
    "# 22 Write a code to check if the element \"banana\" is in the tuple ('apple', 'orange', 'banana')?\n",
    "\n",
    "fruit=('apple', 'orange', 'banana')\n",
    "if 'banana' in fruit:\n",
    "    print(\"banana is a tuple\")\n",
    "else:\n",
    "     print(\"banana is a not tuple\")"
   ]
  },
  {
   "cell_type": "code",
   "execution_count": null,
   "id": "ef448b45-67d2-403f-942b-131248807ee0",
   "metadata": {},
   "outputs": [],
   "source": [
    "# 23 Write a code to create a set with the elements 1, 2, 3, 4, 5 and print it?\n",
    "#\n",
    "set={1,2,3,4,5}\n",
    "set"
   ]
  },
  {
   "cell_type": "code",
   "execution_count": 47,
   "id": "bcd1aa17-4bd2-4536-90c7-bbe94124a450",
   "metadata": {},
   "outputs": [
    {
     "data": {
      "text/plain": [
       "{1, 2, 3, 4, 6}"
      ]
     },
     "execution_count": 47,
     "metadata": {},
     "output_type": "execute_result"
    }
   ],
   "source": [
    "# 24  Write a code to add the element 6 to the set {1, 2, 3, 4}?\n",
    "#Ans\n",
    "set= {1, 2, 3, 4}\n",
    "set.add(6)\n",
    "set"
   ]
  }
 ],
 "metadata": {
  "kernelspec": {
   "display_name": "Python 3 (ipykernel)",
   "language": "python",
   "name": "python3"
  },
  "language_info": {
   "codemirror_mode": {
    "name": "ipython",
    "version": 3
   },
   "file_extension": ".py",
   "mimetype": "text/x-python",
   "name": "python",
   "nbconvert_exporter": "python",
   "pygments_lexer": "ipython3",
   "version": "3.12.7"
  }
 },
 "nbformat": 4,
 "nbformat_minor": 5
}
